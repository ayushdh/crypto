{
 "cells": [
  {
   "cell_type": "code",
   "execution_count": 9,
   "metadata": {},
   "outputs": [],
   "source": [
    "import numpy as np\n",
    "import pandas as pd\n",
    "from scipy import stats\n",
    "from matplotlib import pyplot as plt\n",
    "from datetime import datetime\n",
    "import json\n",
    "from bs4 import BeautifulSoup\n",
    "import requests\n",
    " \n",
    "%matplotlib inline\n",
    "grey = .6, .6, .6\n",
    "\n",
    "fsym = \"ETH\"\n",
    "tsym = \"USD\"\n",
    " \n",
    "url = \"https://www.cryptocompare.com/api/data/coinsnapshot/?fsym=\" + \\\n",
    "       fsym + \"&tsym=\" + tsym\n",
    "response = requests.get(url)\n",
    "soup = BeautifulSoup(response.content, \"html.parser\")\n",
    "dic = json.loads(soup.prettify())\n",
    "#print(dic)"
   ]
  },
  {
   "cell_type": "code",
   "execution_count": 10,
   "metadata": {},
   "outputs": [
    {
     "name": "stdout",
     "output_type": "stream",
     "text": [
      "Cexio\n",
      "Coinbase\n",
      "Coinroom\n",
      "Gemini\n",
      "Bitfinex\n",
      "Cryptsy\n",
      "Tidex\n",
      "CCEX\n",
      "Gatecoin\n",
      "BTCE\n",
      "Kraken\n",
      "OKCoin\n",
      "Exmo\n",
      "WavesDEX\n",
      "BitTrex\n",
      "Remitano\n",
      "Poloniex\n",
      "Bitstamp\n",
      "HitBTC\n",
      "Lykke\n",
      "BitBay\n",
      "LiveCoin\n",
      "Yobit\n",
      "Quoine\n"
     ]
    }
   ],
   "source": [
    "market = []\n",
    "d = dic['Data']['Exchanges']  # a list\n",
    "for i in range(len(d)):\n",
    "    market.append(d[i]['MARKET'])\n",
    "    print(market[-1])"
   ]
  },
  {
   "cell_type": "code",
   "execution_count": 11,
   "metadata": {},
   "outputs": [
    {
     "name": "stdout",
     "output_type": "stream",
     "text": [
      "  Bitfinex      199280.12\n",
      "  Coinbase      134602.45\n",
      "  Poloniex       55508.19\n",
      "  Bitstamp       37731.26\n",
      "    Gemini       33567.36\n",
      "   BitTrex       30379.45\n",
      "    Kraken       27844.36\n",
      "    HitBTC       26652.98\n",
      "     Cexio        9408.83\n",
      "      Exmo        2578.71\n",
      "    Quoine        2091.54\n",
      "     Yobit         696.74\n",
      "    OKCoin         654.67\n",
      "  Coinroom         173.00\n",
      "     Lykke          63.18\n",
      "     Tidex          34.12\n",
      "      CCEX          24.23\n",
      "  Gatecoin          20.44\n",
      "  LiveCoin          11.46\n",
      "   Cryptsy           0.00\n",
      "      BTCE           0.00\n",
      "  WavesDEX           0.00\n",
      "  Remitano           0.00\n",
      "    BitBay           0.00\n"
     ]
    }
   ],
   "source": [
    "vol = []\n",
    "d = dic['Data']['Exchanges']  # a list\n",
    "for i in range(len(d)):\n",
    "    vol.append([d[i]['MARKET'], round(float(d[i]['VOLUME24HOUR']),2)])\n",
    " \n",
    "# sort a list of sublists according to 2nd item in a sublist\n",
    "vol = sorted(vol, key=lambda x: -x[1])\n",
    " \n",
    "# Cryptocurrency Markets according to Volume traded within last 24 hours\n",
    "for e in vol:\n",
    "    print(\"%10s%15.2f\" % (e[0], e[1]))"
   ]
  },
  {
   "cell_type": "code",
   "execution_count": 12,
   "metadata": {},
   "outputs": [
    {
     "name": "stdout",
     "output_type": "stream",
     "text": [
      "['Bitfinex', 'Coinbase', 'Poloniex', 'Bitstamp', 'Gemini', 'BitTrex', 'Kraken', 'HitBTC', 'Cexio', 'Exmo']\n"
     ]
    }
   ],
   "source": [
    "markets = [e[0] for e in vol][0:10]\n",
    "print(markets)"
   ]
  },
  {
   "cell_type": "code",
   "execution_count": 13,
   "metadata": {
    "collapsed": true
   },
   "outputs": [],
   "source": [
    "def fetchCryptoOHLC_byExchange(fsym, tsym, exchange):\n",
    "    # a function fetches a crypto OHLC price-series for fsym/tsym and stores\n",
    "    # it in a pandas DataFrame; uses specific Exchange as provided\n",
    "    # src: https://www.cryptocompare.com/api/\n",
    " \n",
    "    cols = ['date', 'timestamp', 'open', 'high', 'low', 'close']\n",
    "    lst = ['time', 'open', 'high', 'low', 'close']\n",
    " \n",
    "    timestamp_today = datetime.today().timestamp()\n",
    "    curr_timestamp = timestamp_today\n",
    " \n",
    "    for j in range(2):\n",
    "        df = pd.DataFrame(columns=cols)\n",
    "        url = \"https://min-api.cryptocompare.com/data/histoday?fsym=\" + fsym + \\\n",
    "              \"&tsym=\" + tsym + \"&toTs=\" + str(int(curr_timestamp)) + \\\n",
    "              \"&limit=2000\" + \"&e=\" + exchange\n",
    "        response = requests.get(url)\n",
    "        soup = BeautifulSoup(response.content, \"html.parser\")\n",
    "        dic = json.loads(soup.prettify())\n",
    " \n",
    "        for i in range(1, 2001):\n",
    "            tmp = []\n",
    "            for e in enumerate(lst):\n",
    "                x = e[0]\n",
    "                y = dic['Data'][i][e[1]]\n",
    "                if(x == 0):\n",
    "                    # timestamp-to-date\n",
    "                    td = datetime.fromtimestamp(int(y)).strftime('%Y-%m-%d')\n",
    "                    tmp.append(td)  #(str(timestamp2date(y)))\n",
    "                tmp.append(y)\n",
    "            if(np.sum(tmp[-4::]) > 0):\n",
    "                df.loc[len(df)] = np.array(tmp)\n",
    "        df.index = pd.to_datetime(df.date)\n",
    "        df.drop('date', axis=1, inplace=True)\n",
    "        curr_timestamp = int(df.iloc[0][0])\n",
    " \n",
    "        if(j == 0):\n",
    "            df0 = df.copy()\n",
    "        else:\n",
    "            data = pd.concat([df, df0], axis=0)\n",
    " \n",
    "    return data.astype(np.float64)"
   ]
  },
  {
   "cell_type": "code",
   "execution_count": 14,
   "metadata": {},
   "outputs": [
    {
     "name": "stdout",
     "output_type": "stream",
     "text": [
      "ETH/USD\n",
      "    Bitfinex... downloaded\n",
      "    Coinbase... downloaded\n",
      "    Poloniex... downloaded\n",
      "    Bitstamp... downloaded\n",
      "      Gemini... downloaded\n",
      "     BitTrex... downloaded\n",
      "      Kraken... downloaded\n",
      "      HitBTC... downloaded\n",
      "       Cexio... downloaded\n",
      "        Exmo... downloaded\n"
     ]
    }
   ],
   "source": [
    "if ('cp' in globals()) or ('cp' in locals()): del cp\n",
    " \n",
    "# download daily OHLC price-series for ETH/USD for a given 'market'\n",
    "# extract close-price (cp)\n",
    " \n",
    "print(\"%s/%s\" % (fsym, tsym))\n",
    "for market in markets:\n",
    "    print(\"%12s... \" % market, end=\"\")\n",
    "    df = fetchCryptoOHLC_byExchange(fsym, tsym, market)\n",
    "    ts = df[(df.index > \"2017-06-01\") & (df.index <= \"2017-11-05\")][\"close\"]\n",
    "    ts.name = market\n",
    "    if ('cp' in globals()) or ('cp' in locals()):\n",
    "        cp = pd.concat([cp, ts], axis=1, ignore_index=False)\n",
    "    else:\n",
    "        cp = pd.DataFrame(ts)\n",
    "    print(\"downloaded\")"
   ]
  },
  {
   "cell_type": "code",
   "execution_count": 15,
   "metadata": {},
   "outputs": [
    {
     "name": "stdout",
     "output_type": "stream",
     "text": [
      "            Bitfinex  Coinbase  Poloniex  Bitstamp  Gemini  BitTrex  Kraken  \\\n",
      "date                                                                          \n",
      "2017-06-02    217.01    224.95    217.22       NaN  224.50   217.00  224.23   \n",
      "2017-06-03    241.06    245.50    217.22       NaN  245.90   239.50  245.35   \n",
      "2017-06-04    242.16    248.00    242.10       NaN  248.37   246.41  247.60   \n",
      "2017-06-05    261.89    264.58    262.00       NaN  267.44   264.82  263.60   \n",
      "2017-06-06    250.70    255.68    250.50       NaN  256.02   253.93  256.19   \n",
      "2017-06-07    256.95    258.64    257.43       NaN  261.04   257.00  260.24   \n",
      "2017-06-08    278.41    279.38    278.85       NaN  280.21   278.50  279.85   \n",
      "2017-06-09    325.88    340.20    326.00       NaN  331.22   324.10  326.00   \n",
      "2017-06-10    336.33    343.01    335.00       NaN  339.00   335.72  333.10   \n",
      "2017-06-11    386.90    397.37    386.50       NaN  394.90   385.02  385.00   \n",
      "\n",
      "            HitBTC   Cexio    Exmo  \n",
      "date                                \n",
      "2017-06-02  211.29  235.12  216.75  \n",
      "2017-06-03  236.37  256.67  236.54  \n",
      "2017-06-04  243.00  255.60  239.00  \n",
      "2017-06-05  258.17  269.95  250.36  \n",
      "2017-06-06  252.00  264.07  253.74  \n",
      "2017-06-07  259.58  267.00  249.41  \n",
      "2017-06-08  279.33  285.28  269.00  \n",
      "2017-06-09  328.67  343.50  326.42  \n",
      "2017-06-10  331.92  354.80  332.00  \n",
      "2017-06-11  376.68  411.30  390.00  \n",
      "            Bitfinex  Coinbase  Poloniex  Bitstamp  Gemini  BitTrex  Kraken  \\\n",
      "date                                                                          \n",
      "2017-10-27    293.49    295.11    292.92       NaN  294.21   292.10  295.14   \n",
      "2017-10-28    304.39    303.38    304.00       NaN  303.22   305.05  303.95   \n",
      "2017-10-29    307.00    306.87    306.80       NaN  306.50   306.10  306.20   \n",
      "2017-10-30    303.69    303.51    304.50       NaN  303.49   304.01  304.12   \n",
      "2017-10-31    288.60    290.82    288.78       NaN  290.40   289.21  290.10   \n",
      "2017-11-01    284.89    285.40    285.00       NaN  285.31   283.00  283.75   \n",
      "2017-11-02    303.47    306.00    302.12       NaN  305.75   303.47  304.17   \n",
      "2017-11-03    299.48    301.66    299.50       NaN  302.00   298.89  299.41   \n",
      "2017-11-04    295.63    296.57    295.40       NaN  296.04   295.92  294.62   \n",
      "2017-11-05    296.90    297.32    297.09       NaN  297.54   296.00  298.50   \n",
      "\n",
      "            HitBTC   Cexio    Exmo  \n",
      "date                                \n",
      "2017-10-27  292.88  297.40  292.50  \n",
      "2017-10-28  304.20  302.30  295.00  \n",
      "2017-10-29  306.41  306.65  299.90  \n",
      "2017-10-30  303.37  304.00  299.11  \n",
      "2017-10-31  289.14  294.00  289.35  \n",
      "2017-11-01  284.25  289.07  285.09  \n",
      "2017-11-02  303.28  308.84  298.80  \n",
      "2017-11-03  299.25  303.23  293.82  \n",
      "2017-11-04  295.33  303.23  293.87  \n",
      "2017-11-05  296.53  307.32  296.97  \n"
     ]
    }
   ],
   "source": [
    "print(cp.head(10))\n",
    "print(cp.tail(10))"
   ]
  },
  {
   "cell_type": "code",
   "execution_count": 16,
   "metadata": {},
   "outputs": [
    {
     "name": "stdout",
     "output_type": "stream",
     "text": [
      "     Coin1     Coin2      Mean   Std Dev\n",
      "\n",
      "  Poloniex  Coinbase   2.23885      3.45\n",
      "  Coinbase  Bitfinex   2.05573      2.78\n",
      "  Poloniex  Bitfinex   0.67892      1.92\n",
      "  Bitstamp  Bitfinex       nan       nan\n",
      "  Bitstamp  Coinbase       nan       nan\n",
      "  Bitstamp  Poloniex       nan       nan\n",
      "     Cexio    HitBTC   9.82745      8.24\n",
      "     Cexio  Poloniex   9.63707      8.23\n",
      "     Cexio   BitTrex   9.53121      8.24\n",
      "      Exmo     Cexio   9.52229      5.09\n",
      "     Cexio  Bitfinex   9.51217      7.92\n",
      "     Cexio    Gemini   8.56879      8.20\n",
      "     Cexio    Kraken   8.23688      6.53\n",
      "     Cexio  Coinbase   7.83185      6.22\n",
      "      Exmo   BitTrex   6.36777      5.34\n",
      "      Exmo  Poloniex   6.22153      5.21\n",
      "      Exmo    HitBTC   6.22006      5.00\n",
      "      Exmo  Bitfinex   6.12338      5.02\n",
      "      Exmo    Gemini   5.98892      6.22\n",
      "      Exmo    Kraken   5.95573      4.38\n",
      "      Exmo  Coinbase   5.69465      4.22\n",
      "    HitBTC  Coinbase   2.73433      4.36\n",
      "    HitBTC    Gemini   2.72605      5.59\n",
      "    HitBTC    Kraken   2.60064      3.87\n",
      "   BitTrex    Gemini   2.47669      4.77\n",
      "    Kraken   BitTrex   2.46325      3.16\n",
      "   BitTrex  Coinbase   2.42892      3.23\n",
      "    Gemini  Poloniex   2.30178      5.02\n",
      "    Kraken  Poloniex   2.28121      3.40\n",
      "    Kraken  Bitfinex   2.13962      2.71\n",
      "    Gemini  Bitfinex   2.11025      4.58\n",
      "    Kraken    Gemini   1.91433      5.16\n",
      "    HitBTC   BitTrex   1.87892      3.52\n",
      "    HitBTC  Poloniex   1.54287      3.61\n",
      "    Kraken  Coinbase   1.52822      2.52\n",
      "    HitBTC  Bitfinex   1.47873      3.33\n",
      "   BitTrex  Poloniex   1.44051      2.39\n",
      "   BitTrex  Bitfinex   1.24083      1.91\n",
      "    Gemini  Coinbase   1.23809      4.75\n",
      "    Gemini  Bitstamp       nan       nan\n",
      "   BitTrex  Bitstamp       nan       nan\n",
      "    Kraken  Bitstamp       nan       nan\n",
      "    HitBTC  Bitstamp       nan       nan\n",
      "     Cexio  Bitstamp       nan       nan\n",
      "      Exmo  Bitstamp       nan       nan\n"
     ]
    }
   ],
   "source": [
    "dist = []\n",
    "for i in range(cp.shape[1]):\n",
    "    for j in range(i):\n",
    "        if(i != j):\n",
    "            x = np.array(cp.iloc[:,i], dtype=np.float32)\n",
    "            y = np.array(cp.iloc[:,j], dtype=np.float32)\n",
    "            diff = np.abs(x-y)\n",
    "            avg = np.mean(diff)\n",
    "            std = np.std(diff, ddof=1)\n",
    "            dist.append([cp.columns[i], cp.columns[j], avg, std])\n",
    " \n",
    "dist = sorted(dist, key=lambda x: -x[2])\n",
    "print(\"%10s%10s%10s%10s\\n\" % (\"Coin1\", \"Coin2\", \"Mean\", \"Std Dev\"))\n",
    "for e in dist:\n",
    "    print(\"%10s%10s%10.5f%10.2f\" % (e[0], e[1], e[2], e[3]))"
   ]
  },
  {
   "cell_type": "code",
   "execution_count": 17,
   "metadata": {},
   "outputs": [
    {
     "name": "stdout",
     "output_type": "stream",
     "text": [
      "157 157\n"
     ]
    },
    {
     "data": {
      "image/png": "[encoded data removed]",
      "text/plain": [
       "<matplotlib.figure.Figure at 0x196a4261940>"
      ]
     },
     "metadata": {},
     "output_type": "display_data"
    }
   ],
   "source": [
    "market1 = \"Exmo\"\n",
    "market2 = \"Kraken\"\n",
    " \n",
    "df1 = fetchCryptoOHLC_byExchange(fsym, tsym, market1)\n",
    "df2 = fetchCryptoOHLC_byExchange(fsym, tsym, market2)\n",
    " \n",
    "# trim\n",
    "df1 = df1[(df1.index > \"2017-06-01\") & (df1.index <= \"2017-11-05\")]\n",
    "df2 = df2[(df2.index > \"2017-06-01\") & (df2.index <= \"2017-11-05\")]\n",
    " \n",
    "# checkpoint\n",
    "print(df1.close.shape[0], df2.close.shape[0])  # both sizes must be equal\n",
    " \n",
    "# plotting\n",
    "plt.figure(figsize=(10,5))\n",
    "plt.plot(df1.close, '.-', label=market1)\n",
    "plt.plot(df2.close, '.-', label=market2)\n",
    "plt.legend(loc=2)\n",
    "plt.title(fsym, fontsize=12)\n",
    "plt.ylabel(tsym, fontsize=12)\n",
    "plt.grid()"
   ]
  },
  {
   "cell_type": "code",
   "execution_count": 18,
   "metadata": {},
   "outputs": [],
   "source": [
    "spread = df1['close'].values - df2['close'].values"
   ]
  },
  {
   "cell_type": "code",
   "execution_count": 19,
   "metadata": {
    "collapsed": true
   },
   "outputs": [],
   "source": [
    "spread = df1['close'].values - df2['close'].values"
   ]
  },
  {
   "cell_type": "code",
   "execution_count": 20,
   "metadata": {},
   "outputs": [
    {
     "data": {
      "text/plain": [
       "[<matplotlib.lines.Line2D at 0x196a42643c8>]"
      ]
     },
     "execution_count": 20,
     "metadata": {},
     "output_type": "execute_result"
    },
    {
     "data": {
      "image/png": "[encoded data removed]",
      "text/plain": [
       "<matplotlib.figure.Figure at 0x196a42168d0>"
      ]
     },
     "metadata": {},
     "output_type": "display_data"
    }
   ],
   "source": [
    "plt.plot(spread)"
   ]
  },
  {
   "cell_type": "code",
   "execution_count": 21,
   "metadata": {},
   "outputs": [
    {
     "data": {
      "text/plain": [
       "0.98847086635429326"
      ]
     },
     "execution_count": 21,
     "metadata": {},
     "output_type": "execute_result"
    }
   ],
   "source": [
    "df1['close'].corr(df2['close'])"
   ]
  },
  {
   "cell_type": "code",
   "execution_count": 22,
   "metadata": {},
   "outputs": [
    {
     "name": "stderr",
     "output_type": "stream",
     "text": [
      "C:\\Users\\Ayu\\Anaconda3\\lib\\site-packages\\statsmodels\\compat\\pandas.py:56: FutureWarning: The pandas.core.datetools module is deprecated and will be removed in a future version. Please use the pandas.tseries module instead.\n",
      "  from pandas.core import datetools\n"
     ]
    }
   ],
   "source": [
    "import statsmodels.api as sm"
   ]
  },
  {
   "cell_type": "code",
   "execution_count": 23,
   "metadata": {
    "collapsed": true
   },
   "outputs": [],
   "source": [
    "res = sm.OLS(df1['close'], df2['close']).fit()"
   ]
  },
  {
   "cell_type": "code",
   "execution_count": 24,
   "metadata": {},
   "outputs": [
    {
     "data": {
      "text/html": [
       "<table class=\"simpletable\">\n",
       "<caption>OLS Regression Results</caption>\n",
       "<tr>\n",
       "  <th>Dep. Variable:</th>          <td>close</td>      <th>  R-squared:         </th> <td>   0.999</td> \n",
       "</tr>\n",
       "<tr>\n",
       "  <th>Model:</th>                   <td>OLS</td>       <th>  Adj. R-squared:    </th> <td>   0.999</td> \n",
       "</tr>\n",
       "<tr>\n",
       "  <th>Method:</th>             <td>Least Squares</td>  <th>  F-statistic:       </th> <td>2.497e+05</td>\n",
       "</tr>\n",
       "<tr>\n",
       "  <th>Date:</th>             <td>Mon, 13 Nov 2017</td> <th>  Prob (F-statistic):</th> <td>7.12e-252</td>\n",
       "</tr>\n",
       "<tr>\n",
       "  <th>Time:</th>                 <td>16:30:15</td>     <th>  Log-Likelihood:    </th> <td> -533.49</td> \n",
       "</tr>\n",
       "<tr>\n",
       "  <th>No. Observations:</th>      <td>   157</td>      <th>  AIC:               </th> <td>   1069.</td> \n",
       "</tr>\n",
       "<tr>\n",
       "  <th>Df Residuals:</th>          <td>   156</td>      <th>  BIC:               </th> <td>   1072.</td> \n",
       "</tr>\n",
       "<tr>\n",
       "  <th>Df Model:</th>              <td>     1</td>      <th>                     </th>     <td> </td>    \n",
       "</tr>\n",
       "<tr>\n",
       "  <th>Covariance Type:</th>      <td>nonrobust</td>    <th>                     </th>     <td> </td>    \n",
       "</tr>\n",
       "</table>\n",
       "<table class=\"simpletable\">\n",
       "<tr>\n",
       "    <td></td>       <th>coef</th>     <th>std err</th>      <th>t</th>      <th>P>|t|</th>  <th>[0.025</th>    <th>0.975]</th>  \n",
       "</tr>\n",
       "<tr>\n",
       "  <th>close</th> <td>    0.9950</td> <td>    0.002</td> <td>  499.670</td> <td> 0.000</td> <td>    0.991</td> <td>    0.999</td>\n",
       "</tr>\n",
       "</table>\n",
       "<table class=\"simpletable\">\n",
       "<tr>\n",
       "  <th>Omnibus:</th>       <td> 4.243</td> <th>  Durbin-Watson:     </th> <td>   0.553</td>\n",
       "</tr>\n",
       "<tr>\n",
       "  <th>Prob(Omnibus):</th> <td> 0.120</td> <th>  Jarque-Bera (JB):  </th> <td>   3.798</td>\n",
       "</tr>\n",
       "<tr>\n",
       "  <th>Skew:</th>          <td> 0.308</td> <th>  Prob(JB):          </th> <td>   0.150</td>\n",
       "</tr>\n",
       "<tr>\n",
       "  <th>Kurtosis:</th>      <td> 3.449</td> <th>  Cond. No.          </th> <td>    1.00</td>\n",
       "</tr>\n",
       "</table>"
      ],
      "text/plain": [
       "<class 'statsmodels.iolib.summary.Summary'>\n",
       "\"\"\"\n",
       "                            OLS Regression Results                            \n",
       "==============================================================================\n",
       "Dep. Variable:                  close   R-squared:                       0.999\n",
       "Model:                            OLS   Adj. R-squared:                  0.999\n",
       "Method:                 Least Squares   F-statistic:                 2.497e+05\n",
       "Date:                Mon, 13 Nov 2017   Prob (F-statistic):          7.12e-252\n",
       "Time:                        16:30:15   Log-Likelihood:                -533.49\n",
       "No. Observations:                 157   AIC:                             1069.\n",
       "Df Residuals:                     156   BIC:                             1072.\n",
       "Df Model:                           1                                         \n",
       "Covariance Type:            nonrobust                                         \n",
       "==============================================================================\n",
       "                 coef    std err          t      P>|t|      [0.025      0.975]\n",
       "------------------------------------------------------------------------------\n",
       "close          0.9950      0.002    499.670      0.000       0.991       0.999\n",
       "==============================================================================\n",
       "Omnibus:                        4.243   Durbin-Watson:                   0.553\n",
       "Prob(Omnibus):                  0.120   Jarque-Bera (JB):                3.798\n",
       "Skew:                           0.308   Prob(JB):                        0.150\n",
       "Kurtosis:                       3.449   Cond. No.                         1.00\n",
       "==============================================================================\n",
       "\n",
       "Warnings:\n",
       "[1] Standard Errors assume that the covariance matrix of the errors is correctly specified.\n",
       "\"\"\""
      ]
     },
     "execution_count": 24,
     "metadata": {},
     "output_type": "execute_result"
    }
   ],
   "source": [
    "res.summary()"
   ]
  },
  {
   "cell_type": "code",
   "execution_count": null,
   "metadata": {
    "collapsed": true
   },
   "outputs": [],
   "source": []
  }
 ],
 "metadata": {
  "kernelspec": {
   "display_name": "Python 3",
   "language": "python",
   "name": "python3"
  },
  "language_info": {
   "codemirror_mode": {
    "name": "ipython",
    "version": 3
   },
   "file_extension": ".py",
   "mimetype": "text/x-python",
   "name": "python",
   "nbconvert_exporter": "python",
   "pygments_lexer": "ipython3",
   "version": "3.6.1"
  }
 },
 "nbformat": 4,
 "nbformat_minor": 2
}
