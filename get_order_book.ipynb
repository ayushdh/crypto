{
 "cells": [
  {
   "cell_type": "code",
   "execution_count": 1,
   "metadata": {
    "collapsed": true
   },
   "outputs": [],
   "source": [
    "import requests\n",
    "import json\n",
    "import pandas as pd\n",
    "from bs4 import BeautifulSoup\n",
    "import numpy as np\n",
    "import time\n",
    "import matplotlib.pyplot as plt"
   ]
  },
  {
   "cell_type": "code",
   "execution_count": 2,
   "metadata": {
    "collapsed": true
   },
   "outputs": [],
   "source": [
    "def get_order_book_data(target, exchange):\n",
    "  \n",
    "    url = \"https://api.cryptowat.ch/markets/\" + exchange + \"/\" + target + \"/orderbook\"\n",
    "    response = requests.get(url)\n",
    "    soup = BeautifulSoup(response.content, \"html.parser\")\n",
    "    dic = json.loads(soup.prettify())\n",
    "    order_ask = dic[\"result\"][\"asks\"]\n",
    "    order_bid = dic[\"result\"][\"bids\"]\n",
    "\n",
    "    df_bid = pd.DataFrame(np.array(order_bid), columns=[\"price_bid\", \"quantity_bid\"])\n",
    "    df_ask = pd.DataFrame(np.array(order_ask), columns=[\"price_ask\", \"quantity_ask\"])\n",
    "    \n",
    "    result = {\"bid\": df_bid, \"ask\": df_ask}\n",
    "    \n",
    "    return result\n",
    "\n",
    "target = [\"btcusd\", \"ethusd\"]\n",
    "exchange = [\"bitfinex\", \"gdax\", \"bitstamp\", \"gemini\"]\n",
    "\n",
    "# order_book = {}\n",
    "# for i in target:\n",
    "#     for j in exchange:\n",
    "#         tmp = get_order_book_data(target=i, exchange=j)\n",
    "#         order_book[i + \"_\" + j] = tmp"
   ]
  },
  {
   "cell_type": "code",
   "execution_count": 3,
   "metadata": {},
   "outputs": [
    {
     "name": "stdout",
     "output_type": "stream",
     "text": [
      "0...\n",
      "1...\n",
      "2...\n",
      "3...\n",
      "4...\n",
      "5...\n",
      "6...\n",
      "7...\n",
      "8...\n",
      "9...\n",
      "10...\n",
      "11...\n",
      "12...\n",
      "13...\n",
      "14...\n",
      "15...\n",
      "16...\n",
      "17...\n",
      "18...\n",
      "19...\n",
      "20...\n",
      "21...\n",
      "22...\n",
      "23...\n",
      "24...\n",
      "25...\n",
      "26...\n",
      "27...\n",
      "28...\n",
      "29...\n",
      "30...\n",
      "31...\n",
      "32...\n",
      "33...\n",
      "34...\n",
      "35...\n",
      "36...\n",
      "37...\n",
      "38...\n",
      "39...\n",
      "40...\n",
      "41...\n",
      "42...\n",
      "43...\n",
      "44...\n",
      "45...\n",
      "46...\n",
      "47...\n",
      "48...\n",
      "49...\n",
      "50...\n",
      "51...\n",
      "52...\n",
      "53...\n",
      "54...\n",
      "55...\n",
      "56...\n",
      "57...\n",
      "58...\n",
      "59...\n",
      "60...\n",
      "61...\n",
      "62...\n",
      "63...\n",
      "64...\n",
      "65...\n",
      "66...\n",
      "67...\n",
      "68...\n",
      "69...\n",
      "70...\n",
      "71...\n",
      "72...\n",
      "73...\n",
      "74...\n",
      "75...\n",
      "76...\n",
      "77...\n",
      "78...\n",
      "79...\n",
      "80...\n",
      "81...\n",
      "82...\n",
      "83...\n",
      "84...\n",
      "85...\n",
      "86...\n",
      "87...\n",
      "88...\n",
      "89...\n",
      "90...\n",
      "91...\n",
      "92...\n",
      "93...\n",
      "94...\n",
      "95...\n",
      "96...\n",
      "97...\n",
      "98...\n",
      "99...\n"
     ]
    }
   ],
   "source": [
    "order_book = {}\n",
    "time_frame = np.arange(600)\n",
    "\n",
    "count = 0\n",
    "while count < 100:\n",
    "    print(str(count) + \"...\")\n",
    "    for i in target:\n",
    "        for j in exchange:\n",
    "            tmp = get_order_book_data(target=i, exchange=j)\n",
    "            order_book[(time_frame[count], i + \"_\" + j)] = tmp\n",
    "    count += 1\n",
    "    time.sleep(1)\n"
   ]
  },
  {
   "cell_type": "code",
   "execution_count": 4,
   "metadata": {
    "collapsed": true
   },
   "outputs": [],
   "source": [
    "#order_book[(1, 'ethusd_bitfinex')]['bid']"
   ]
  },
  {
   "cell_type": "code",
   "execution_count": 5,
   "metadata": {
    "collapsed": true
   },
   "outputs": [],
   "source": [
    "def get_fair_price(bid , ask , n):\n",
    "    total_bid_vol = sum(bid['quantity_bid'][:n])\n",
    "    total_ask_vol = sum(ask['quantity_ask'][:n])\n",
    "    bid_sum = sum(bid['quantity_bid'][:n] * bid['price_bid'][:n])\n",
    "    ask_sum = sum(ask['quantity_ask'][:n] * ask['price_ask'][:n])\n",
    "    \n",
    "    bid_weight_price = bid_sum / total_bid_vol \n",
    "    ask_weight_price = ask_sum / total_ask_vol \n",
    "    vol_wgt_price =  (bid_weight_price* total_ask_vol + ask_weight_price* total_bid_vol) / (total_ask_vol + total_bid_vol)\n",
    "    \n",
    "    best_bid_price = bid['price_bid'].iloc[0]\n",
    "    best_ask_price = ask['price_ask'].iloc[0]\n",
    "    \n",
    "    vol_wgt_price_normalised = (vol_wgt_price - bid_weight_price)*(best_ask_price - best_bid_price)/(ask_weight_price - bid_weight_price) + best_bid_price \n",
    "    \n",
    "    return [best_bid_price , best_ask_price , vol_wgt_price_normalised ]"
   ]
  },
  {
   "cell_type": "code",
   "execution_count": 6,
   "metadata": {
    "collapsed": true
   },
   "outputs": [],
   "source": [
    "def get_arb(cur_1,cur_2):\n",
    "    arb = []\n",
    "    if (cur_1['bid']['price_bid'].iloc[0] > cur_2['ask']['price_ask'].iloc[0]):\n",
    "        return [cur_1['bid']['price_bid'].iloc[0] - cur_2['ask']['price_ask'].iloc[0]]\n",
    "    else:\n",
    "        return []\n",
    "    "
   ]
  },
  {
   "cell_type": "code",
   "execution_count": 7,
   "metadata": {
    "collapsed": true
   },
   "outputs": [],
   "source": [
    "pair = 'ethusd_bitstamp'\n",
    "cur_1 = 'btcusd_bitstamp'\n",
    "cur_2 = 'btcusd_bitfinex'"
   ]
  },
  {
   "cell_type": "code",
   "execution_count": 8,
   "metadata": {
    "collapsed": true
   },
   "outputs": [],
   "source": [
    "result = []"
   ]
  },
  {
   "cell_type": "code",
   "execution_count": 9,
   "metadata": {
    "collapsed": true
   },
   "outputs": [],
   "source": [
    "for i in range(100):\n",
    "    result.append(get_fair_price(order_book[(i,pair )]['bid'] , order_book[(i, pair)]['ask'],10))"
   ]
  },
  {
   "cell_type": "code",
   "execution_count": 11,
   "metadata": {},
   "outputs": [],
   "source": [
    "#for i in range(100):\n",
    "#    print(get_arb(order_book[(i,cur_1)] , order_book[(i,cur_2)]))"
   ]
  },
  {
   "cell_type": "code",
   "execution_count": 12,
   "metadata": {
    "collapsed": true
   },
   "outputs": [],
   "source": [
    "df=pd.DataFrame(result,columns=['bid','ask','vol_wgt_price'])"
   ]
  },
  {
   "cell_type": "code",
   "execution_count": 13,
   "metadata": {},
   "outputs": [
    {
     "data": {
      "image/png": "[encoded data removed]",
      "text/plain": [
       "<matplotlib.figure.Figure at 0x1f02015b390>"
      ]
     },
     "metadata": {},
     "output_type": "display_data"
    }
   ],
   "source": [
    "df.plot()\n",
    "plt.show()"
   ]
  },
  {
   "cell_type": "code",
   "execution_count": null,
   "metadata": {
    "scrolled": true
   },
   "outputs": [],
   "source": []
  },
  {
   "cell_type": "code",
   "execution_count": null,
   "metadata": {
    "collapsed": true
   },
   "outputs": [],
   "source": []
  },
  {
   "cell_type": "code",
   "execution_count": null,
   "metadata": {},
   "outputs": [],
   "source": []
  },
  {
   "cell_type": "code",
   "execution_count": null,
   "metadata": {},
   "outputs": [],
   "source": []
  },
  {
   "cell_type": "code",
   "execution_count": null,
   "metadata": {
    "collapsed": true
   },
   "outputs": [],
   "source": []
  },
  {
   "cell_type": "code",
   "execution_count": null,
   "metadata": {},
   "outputs": [],
   "source": []
  },
  {
   "cell_type": "code",
   "execution_count": null,
   "metadata": {
    "collapsed": true
   },
   "outputs": [],
   "source": []
  },
  {
   "cell_type": "code",
   "execution_count": null,
   "metadata": {
    "collapsed": true
   },
   "outputs": [],
   "source": []
  },
  {
   "cell_type": "code",
   "execution_count": null,
   "metadata": {
    "collapsed": true
   },
   "outputs": [],
   "source": []
  }
 ],
 "metadata": {
  "kernelspec": {
   "display_name": "Python 3",
   "language": "python",
   "name": "python3"
  },
  "language_info": {
   "codemirror_mode": {
    "name": "ipython",
    "version": 3
   },
   "file_extension": ".py",
   "mimetype": "text/x-python",
   "name": "python",
   "nbconvert_exporter": "python",
   "pygments_lexer": "ipython3",
   "version": "3.6.1"
  }
 },
 "nbformat": 4,
 "nbformat_minor": 2
}
